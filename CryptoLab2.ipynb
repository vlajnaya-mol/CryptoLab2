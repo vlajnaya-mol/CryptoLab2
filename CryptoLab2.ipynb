{
 "cells": [
  {
   "cell_type": "code",
   "execution_count": 74,
   "metadata": {},
   "outputs": [],
   "source": [
    "from aes_stream import AES_ECB, AES_CBC, AES_CFB, AES_OFB, AES_CTR\n",
    "from rc4 import RC4\n",
    "from salsa20 import Salsa20\n",
    "import numpy as np\n",
    "import time\n",
    "import seaborn as sns\n",
    "import matplotlib\n",
    "import matplotlib.pyplot as plt\n",
    "from tabulate import tabulate\n",
    "\n",
    "sns.set(style=\"whitegrid\")"
   ]
  },
  {
   "cell_type": "code",
   "execution_count": 10,
   "metadata": {},
   "outputs": [
    {
     "name": "stdout",
     "output_type": "stream",
     "text": [
      "The autoreload extension is already loaded. To reload it, use:\n",
      "  %reload_ext autoreload\n"
     ]
    }
   ],
   "source": [
    "%load_ext autoreload\n",
    "%autoreload 2"
   ]
  },
  {
   "cell_type": "code",
   "execution_count": 11,
   "metadata": {},
   "outputs": [],
   "source": [
    "def test_time(Algo, n_bytes_key, n_bytes_stream):\n",
    "    key = np.random.randint(0, 256, n_bytes_key, dtype=np.uint8)\n",
    "    stream = np.random.randint(0, 256, n_bytes_stream, dtype=np.uint8)\n",
    "    \n",
    "    start = time.time()\n",
    "    cipher = Algo(key)\n",
    "    assert np.array_equal(stream, cipher.decode(cipher.encode(stream))), str(Algo) + \" works bad!\"\n",
    "    \n",
    "    return time.time() - start"
   ]
  },
  {
   "cell_type": "code",
   "execution_count": 12,
   "metadata": {},
   "outputs": [
    {
     "data": {
      "text/plain": [
       "0.014789342880249023"
      ]
     },
     "execution_count": 12,
     "metadata": {},
     "output_type": "execute_result"
    }
   ],
   "source": [
    "test_time(RC4, 256, 512)"
   ]
  },
  {
   "cell_type": "code",
   "execution_count": 13,
   "metadata": {},
   "outputs": [
    {
     "data": {
      "text/plain": [
       "0.037580251693725586"
      ]
     },
     "execution_count": 13,
     "metadata": {},
     "output_type": "execute_result"
    }
   ],
   "source": [
    "test_time(Salsa20, 32, 512)"
   ]
  },
  {
   "cell_type": "code",
   "execution_count": 28,
   "metadata": {},
   "outputs": [
    {
     "data": {
      "text/plain": [
       "0.39632344245910645"
      ]
     },
     "execution_count": 28,
     "metadata": {},
     "output_type": "execute_result"
    }
   ],
   "source": [
    "test_time(AES_ECB, 16, 512)"
   ]
  },
  {
   "cell_type": "code",
   "execution_count": 15,
   "metadata": {},
   "outputs": [
    {
     "data": {
      "text/plain": [
       "0.388901948928833"
      ]
     },
     "execution_count": 15,
     "metadata": {},
     "output_type": "execute_result"
    }
   ],
   "source": [
    "test_time(AES_CBC, 16, 512)"
   ]
  },
  {
   "cell_type": "code",
   "execution_count": 32,
   "metadata": {},
   "outputs": [
    {
     "data": {
      "text/plain": [
       "1.4803411960601807"
      ]
     },
     "execution_count": 32,
     "metadata": {},
     "output_type": "execute_result"
    }
   ],
   "source": [
    "test_time(AES_CFB, 16, 512)"
   ]
  },
  {
   "cell_type": "code",
   "execution_count": 66,
   "metadata": {},
   "outputs": [
    {
     "data": {
      "text/plain": [
       "0.39235353469848633"
      ]
     },
     "execution_count": 66,
     "metadata": {},
     "output_type": "execute_result"
    }
   ],
   "source": [
    "test_time(AES_OFB, 16, 512)"
   ]
  },
  {
   "cell_type": "code",
   "execution_count": 23,
   "metadata": {},
   "outputs": [
    {
     "data": {
      "text/plain": [
       "0.37130260467529297"
      ]
     },
     "execution_count": 23,
     "metadata": {},
     "output_type": "execute_result"
    }
   ],
   "source": [
    "test_time(AES_CTR, 16, 512)"
   ]
  },
  {
   "cell_type": "code",
   "execution_count": 75,
   "metadata": {
    "scrolled": true
   },
   "outputs": [
    {
     "name": "stdout",
     "output_type": "stream",
     "text": [
      "0\n",
      "1\n",
      "2\n",
      "3\n",
      "4\n",
      "5\n",
      "6\n",
      "7\n",
      "8\n",
      "9\n"
     ]
    }
   ],
   "source": [
    "data = {\"RC4\": [], \"Salsa20\": [], \"AES_ECB\": [], \"AES_CBC\": [], \"AES_CFB\": [], \"AES_OFB\": [], \"AES_CTR\": []}\n",
    "points = 10\n",
    "init_power = 9\n",
    "power_bytes = init_power\n",
    "upper_bound = 30\n",
    "rc4_s = salsa20_s = ecb_s = cbc_s = cfb_s = ofb_s = ctr_s = 0\n",
    "for i in range(points):\n",
    "    print(i)\n",
    "    n_bytes = 2**power_bytes\n",
    "    \n",
    "    if rc4_s < upper_bound:\n",
    "        rc4_s = test_time(RC4, 256, n_bytes)\n",
    "\n",
    "    if salsa20_s < upper_bound:\n",
    "        salsa20_s = test_time(Salsa20, 32, n_bytes)\n",
    "    \n",
    "    if ecb_s < upper_bound:\n",
    "        ecb_s = test_time(AES_ECB, 16, n_bytes)\n",
    "        \n",
    "    if cbc_s < upper_bound:\n",
    "        cbc_s = test_time(AES_CBC, 16, n_bytes)\n",
    "        \n",
    "    if cfb_s < upper_bound:\n",
    "        cfb_s = test_time(AES_CFB, 16, n_bytes)\n",
    "        \n",
    "    if ofb_s < upper_bound:\n",
    "        ofb_s = test_time(AES_OFB, 16, n_bytes)\n",
    "    \n",
    "    if ctr_s < upper_bound:\n",
    "        ctr_s = test_time(AES_CTR, 16, n_bytes)\n",
    "    \n",
    "    data[\"RC4\"].append(rc4_s)\n",
    "    data[\"Salsa20\"].append(salsa20_s)\n",
    "    data[\"AES_ECB\"].append(ecb_s)\n",
    "    data[\"AES_CBC\"].append(cbc_s)\n",
    "    data[\"AES_CFB\"].append(cfb_s)\n",
    "    data[\"AES_OFB\"].append(ofb_s)\n",
    "    data[\"AES_CTR\"].append(ctr_s)\n",
    "    \n",
    "    power_bytes += 1"
   ]
  },
  {
   "cell_type": "code",
   "execution_count": 76,
   "metadata": {},
   "outputs": [
    {
     "data": {
      "text/plain": [
       "<Figure size 936x720 with 0 Axes>"
      ]
     },
     "metadata": {},
     "output_type": "display_data"
    }
   ],
   "source": [
    "plt.tight_layout()\n",
    "plt.rcParams[\"figure.figsize\"] = (13,10)"
   ]
  },
  {
   "cell_type": "code",
   "execution_count": 77,
   "metadata": {},
   "outputs": [
    {
     "data": {
      "text/plain": [
       "[Text(0, 0.5, 'Seconds'), Text(0.5, 0, 'Bytes in stream')]"
      ]
     },
     "execution_count": 77,
     "metadata": {},
     "output_type": "execute_result"
    },
    {
     "data": {
      "image/png": "[encoded data removed]",
      "text/plain": [
       "<Figure size 936x720 with 1 Axes>"
      ]
     },
     "metadata": {},
     "output_type": "display_data"
    }
   ],
   "source": [
    "for k in data:\n",
    "    y = data[k]\n",
    "    x = list(range(len(y)))\n",
    "    \n",
    "    ax = sns.lineplot(x=x, y=y, linewidth=2.5, label=k)\n",
    "\n",
    "plt.xticks(range(points))\n",
    "ax.set_xticklabels([f\"2^{i}\" for i in range(init_power, init_power + points)])\n",
    "ax.set(ylabel=\"Seconds\", xlabel=\"Bytes in stream\")"
   ]
  },
  {
   "cell_type": "code",
   "execution_count": 65,
   "metadata": {},
   "outputs": [
    {
     "data": {
      "text/plain": [
       "{'RC4': [0.016351938247680664,\n",
       "  0.013506174087524414,\n",
       "  0.026995420455932617,\n",
       "  0.04961991310119629,\n",
       "  0.09851455688476562,\n",
       "  0.19706487655639648,\n",
       "  0.4495110511779785,\n",
       "  0.8327219486236572,\n",
       "  1.6121234893798828,\n",
       "  3.165658473968506],\n",
       " 'Salsa20': [0.027912139892578125,\n",
       "  0.04619884490966797,\n",
       "  0.09475183486938477,\n",
       "  0.18508243560791016,\n",
       "  0.3817882537841797,\n",
       "  0.7989895343780518,\n",
       "  1.4733831882476807,\n",
       "  2.896946907043457,\n",
       "  5.582991123199463,\n",
       "  11.134410381317139],\n",
       " 'AES_ECB': [0.40535473823547363,\n",
       "  0.8475179672241211,\n",
       "  1.733201265335083,\n",
       "  3.1269989013671875,\n",
       "  6.2191619873046875,\n",
       "  12.718210220336914,\n",
       "  26.333178758621216,\n",
       "  51.61341714859009,\n",
       "  103.6282434463501,\n",
       "  103.6282434463501],\n",
       " 'AES_CBC': [0.39551877975463867,\n",
       "  0.9117014408111572,\n",
       "  1.7475640773773193,\n",
       "  3.537883996963501,\n",
       "  6.27518367767334,\n",
       "  13.362740993499756,\n",
       "  25.533928155899048,\n",
       "  54.979976177215576,\n",
       "  103.74931621551514,\n",
       "  103.74931621551514],\n",
       " 'AES_CFB': [1.6887288093566895,\n",
       "  3.4896903038024902,\n",
       "  6.860858917236328,\n",
       "  12.51198959350586,\n",
       "  26.634489059448242,\n",
       "  52.51207256317139,\n",
       "  104.26597261428833,\n",
       "  104.26597261428833,\n",
       "  104.26597261428833,\n",
       "  104.26597261428833],\n",
       " 'AES_OFB': [0.01277780532836914,\n",
       "  0.01311945915222168,\n",
       "  0.011981010437011719,\n",
       "  0.011938333511352539,\n",
       "  0.012825965881347656,\n",
       "  0.01290750503540039,\n",
       "  0.014243841171264648,\n",
       "  0.013640642166137695,\n",
       "  0.012947559356689453,\n",
       "  0.012887954711914062],\n",
       " 'AES_CTR': [0.44216442108154297,\n",
       "  0.8569164276123047,\n",
       "  1.5341448783874512,\n",
       "  3.064117431640625,\n",
       "  6.505540609359741,\n",
       "  14.004870414733887,\n",
       "  27.633168697357178,\n",
       "  52.043410301208496,\n",
       "  101.96684169769287,\n",
       "  101.96684169769287]}"
      ]
     },
     "execution_count": 65,
     "metadata": {},
     "output_type": "execute_result"
    }
   ],
   "source": [
    "data"
   ]
  },
  {
   "cell_type": "code",
   "execution_count": null,
   "metadata": {},
   "outputs": [],
   "source": []
  }
 ],
 "metadata": {
  "kernelspec": {
   "display_name": "Python 3",
   "language": "python",
   "name": "python3"
  },
  "language_info": {
   "codemirror_mode": {
    "name": "ipython",
    "version": 3
   },
   "file_extension": ".py",
   "mimetype": "text/x-python",
   "name": "python",
   "nbconvert_exporter": "python",
   "pygments_lexer": "ipython3",
   "version": "3.7.4"
  }
 },
 "nbformat": 4,
 "nbformat_minor": 2
}
