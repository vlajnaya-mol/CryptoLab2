{
 "cells": [
  {
   "cell_type": "code",
   "execution_count": 35,
   "metadata": {},
   "outputs": [],
   "source": [
    "from aes_stream import AES_ECB, AES_CBC, AES_CFB, AES_OFB, AES_CTR\n",
    "from rc4 import RC4\n",
    "from salsa20 import Salsa20\n",
    "import numpy as np\n",
    "import time\n",
    "import seaborn as sns\n",
    "import matplotlib\n",
    "import matplotlib.pyplot as plt\n",
    "\n",
    "sns.set(style=\"whitegrid\")"
   ]
  },
  {
   "cell_type": "code",
   "execution_count": 10,
   "metadata": {},
   "outputs": [
    {
     "name": "stdout",
     "output_type": "stream",
     "text": [
      "The autoreload extension is already loaded. To reload it, use:\n",
      "  %reload_ext autoreload\n"
     ]
    }
   ],
   "source": [
    "%load_ext autoreload\n",
    "%autoreload 2"
   ]
  },
  {
   "cell_type": "code",
   "execution_count": 11,
   "metadata": {},
   "outputs": [],
   "source": [
    "def test_time(Algo, n_bytes_key, n_bytes_stream):\n",
    "    key = np.random.randint(0, 256, n_bytes_key, dtype=np.uint8)\n",
    "    stream = np.random.randint(0, 256, n_bytes_stream, dtype=np.uint8)\n",
    "    \n",
    "    start = time.time()\n",
    "    cipher = Algo(key)\n",
    "    assert np.array_equal(stream, cipher.decode(cipher.encode(stream))), str(Algo) + \" works bad!\"\n",
    "    \n",
    "    return time.time() - start"
   ]
  },
  {
   "cell_type": "code",
   "execution_count": 12,
   "metadata": {},
   "outputs": [
    {
     "data": {
      "text/plain": [
       "0.014789342880249023"
      ]
     },
     "execution_count": 12,
     "metadata": {},
     "output_type": "execute_result"
    }
   ],
   "source": [
    "test_time(RC4, 256, 512)"
   ]
  },
  {
   "cell_type": "code",
   "execution_count": 13,
   "metadata": {},
   "outputs": [
    {
     "data": {
      "text/plain": [
       "0.037580251693725586"
      ]
     },
     "execution_count": 13,
     "metadata": {},
     "output_type": "execute_result"
    }
   ],
   "source": [
    "test_time(Salsa20, 32, 512)"
   ]
  },
  {
   "cell_type": "code",
   "execution_count": 28,
   "metadata": {},
   "outputs": [
    {
     "data": {
      "text/plain": [
       "0.39632344245910645"
      ]
     },
     "execution_count": 28,
     "metadata": {},
     "output_type": "execute_result"
    }
   ],
   "source": [
    "test_time(AES_ECB, 16, 512)"
   ]
  },
  {
   "cell_type": "code",
   "execution_count": 15,
   "metadata": {},
   "outputs": [
    {
     "data": {
      "text/plain": [
       "0.388901948928833"
      ]
     },
     "execution_count": 15,
     "metadata": {},
     "output_type": "execute_result"
    }
   ],
   "source": [
    "test_time(AES_CBC, 16, 512)"
   ]
  },
  {
   "cell_type": "code",
   "execution_count": 32,
   "metadata": {},
   "outputs": [
    {
     "data": {
      "text/plain": [
       "1.4803411960601807"
      ]
     },
     "execution_count": 32,
     "metadata": {},
     "output_type": "execute_result"
    }
   ],
   "source": [
    "test_time(AES_CFB, 16, 512)"
   ]
  },
  {
   "cell_type": "code",
   "execution_count": 27,
   "metadata": {},
   "outputs": [
    {
     "data": {
      "text/plain": [
       "0.028011560440063477"
      ]
     },
     "execution_count": 27,
     "metadata": {},
     "output_type": "execute_result"
    }
   ],
   "source": [
    "test_time(AES_OFB, 16, 512)"
   ]
  },
  {
   "cell_type": "code",
   "execution_count": 23,
   "metadata": {},
   "outputs": [
    {
     "data": {
      "text/plain": [
       "0.37130260467529297"
      ]
     },
     "execution_count": 23,
     "metadata": {},
     "output_type": "execute_result"
    }
   ],
   "source": [
    "test_time(AES_CTR, 16, 512)"
   ]
  },
  {
   "cell_type": "code",
   "execution_count": null,
   "metadata": {},
   "outputs": [
    {
     "name": "stdout",
     "output_type": "stream",
     "text": [
      "0\n",
      "1\n",
      "2\n",
      "3\n",
      "4\n",
      "5\n",
      "6\n",
      "7\n"
     ]
    }
   ],
   "source": [
    "data = {\"RC4\": [], \"Salsa20\": [], \"AES_ECB\": [], \"AES_CBC\": [], \"AES_CFB\": [], \"AES_OFB\": [], \"AES_CTR\": []}\n",
    "points = 10\n",
    "init_power = 9\n",
    "power_bytes = init_power\n",
    "upper_bound = 30\n",
    "rc4_s = salsa20_s = ecb_s = cbc_s = cfb_s = ofb_s = ctr_s = 0\n",
    "for i in range(points):\n",
    "    print(i)\n",
    "    n_bytes = 2**power_bytes\n",
    "    \n",
    "    if rc4_s < upper_bound:\n",
    "        rc4_s = test_time(RC4, 256, n_bytes)\n",
    "\n",
    "    if salsa20_s < upper_bound:\n",
    "        salsa20_s = test_time(Salsa20, 32, n_bytes)\n",
    "    \n",
    "    if ecb_s < upper_bound:\n",
    "        ecb_s = test_time(AES_ECB, 16, n_bytes)\n",
    "        \n",
    "    if cbc_s < upper_bound:\n",
    "        cbc_s = test_time(AES_CBC, 16, n_bytes)\n",
    "        \n",
    "    if cfb_s < upper_bound:\n",
    "        cfb_s = test_time(AES_CFB, 16, n_bytes)\n",
    "        \n",
    "    if ofb_s < upper_bound:\n",
    "        ofb_s = test_time(AES_OFB, 16, n_bytes)\n",
    "    \n",
    "    if ctr_s < upper_bound:\n",
    "        ctr_s = test_time(AES_CTR, 16, n_bytes)\n",
    "    \n",
    "    data[\"RC4\"].append(rc4_s)\n",
    "    data[\"Salsa20\"].append(salsa20_s)\n",
    "    data[\"AES_ECB\"].append(ecb_s)\n",
    "    data[\"AES_CBC\"].append(cbc_s)\n",
    "    data[\"AES_CFB\"].append(cfb_s)\n",
    "    data[\"AES_OFB\"].append(ofb_s)\n",
    "    data[\"AES_CTR\"].append(ctr_s)\n",
    "    \n",
    "    power_bytes += 1"
   ]
  },
  {
   "cell_type": "code",
   "execution_count": null,
   "metadata": {},
   "outputs": [],
   "source": [
    "plt.tight_layout()\n",
    "plt.rcParams[\"figure.figsize\"] = (13,10)"
   ]
  },
  {
   "cell_type": "code",
   "execution_count": null,
   "metadata": {},
   "outputs": [],
   "source": [
    "for k in data:\n",
    "    y = data[k]\n",
    "    x = list(range(len(y)))\n",
    "    \n",
    "    ax = sns.lineplot(x=x, y=y, linewidth=2.5, label=k)\n",
    "\n",
    "plt.xticks(range(points))\n",
    "ax.set_xticklabels([f\"2^{i}\" for i in range(init_power, init_power + points)])\n",
    "ax.set(ylabel=\"Seconds\", xlabel=\"Bytes in stream\")"
   ]
  },
  {
   "cell_type": "code",
   "execution_count": null,
   "metadata": {},
   "outputs": [],
   "source": []
  }
 ],
 "metadata": {
  "kernelspec": {
   "display_name": "Python 3",
   "language": "python",
   "name": "python3"
  },
  "language_info": {
   "codemirror_mode": {
    "name": "ipython",
    "version": 3
   },
   "file_extension": ".py",
   "mimetype": "text/x-python",
   "name": "python",
   "nbconvert_exporter": "python",
   "pygments_lexer": "ipython3",
   "version": "3.7.4"
  }
 },
 "nbformat": 4,
 "nbformat_minor": 2
}
