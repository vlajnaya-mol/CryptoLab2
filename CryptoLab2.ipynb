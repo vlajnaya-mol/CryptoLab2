{
 "cells": [
  {
   "cell_type": "code",
   "execution_count": 26,
   "metadata": {},
   "outputs": [],
   "source": [
    "from aes_stream import AES_ECB, AES_CBC, AES_CFB, AES_OFB, AES_CTR\n",
    "from rc4 import RC4\n",
    "from salsa20 import Salsa20\n",
    "import numpy as np\n",
    "import time\n",
    "import seaborn as sns\n",
    "import matplotlib\n",
    "import matplotlib.pyplot as plt\n",
    "from tabulate import tabulate\n",
    "\n",
    "sns.set(style=\"darkgrid\")"
   ]
  },
  {
   "cell_type": "code",
   "execution_count": 2,
   "metadata": {},
   "outputs": [],
   "source": [
    "%load_ext autoreload\n",
    "%autoreload 2"
   ]
  },
  {
   "cell_type": "code",
   "execution_count": 35,
   "metadata": {},
   "outputs": [],
   "source": [
    "def test_time(Algo, n_bytes_key, n_bytes_stream):\n",
    "    key = np.random.randint(0, 256, n_bytes_key, dtype=np.uint8)\n",
    "    stream = np.random.randint(0, 256, n_bytes_stream, dtype=np.uint8)\n",
    "    \n",
    "    start = time.time()\n",
    "    cipher = Algo(key)\n",
    "    assert np.array_equal(stream, cipher.encrypt(cipher.decrypt(stream))), str(Algo) + \" works bad!\"\n",
    "    \n",
    "    return time.time() - start"
   ]
  },
  {
   "cell_type": "code",
   "execution_count": 44,
   "metadata": {},
   "outputs": [
    {
     "data": {
      "text/plain": [
       "0.016104698181152344"
      ]
     },
     "execution_count": 44,
     "metadata": {},
     "output_type": "execute_result"
    }
   ],
   "source": [
    "test_time(RC4, 256, 512)"
   ]
  },
  {
   "cell_type": "code",
   "execution_count": 45,
   "metadata": {},
   "outputs": [
    {
     "data": {
      "text/plain": [
       "0.0631566047668457"
      ]
     },
     "execution_count": 45,
     "metadata": {},
     "output_type": "execute_result"
    }
   ],
   "source": [
    "test_time(Salsa20, 32, 512)"
   ]
  },
  {
   "cell_type": "code",
   "execution_count": 46,
   "metadata": {},
   "outputs": [
    {
     "data": {
      "text/plain": [
       "0.8633129596710205"
      ]
     },
     "execution_count": 46,
     "metadata": {},
     "output_type": "execute_result"
    }
   ],
   "source": [
    "test_time(AES_ECB, 16, 512)"
   ]
  },
  {
   "cell_type": "code",
   "execution_count": 47,
   "metadata": {},
   "outputs": [
    {
     "data": {
      "text/plain": [
       "0.8941779136657715"
      ]
     },
     "execution_count": 47,
     "metadata": {},
     "output_type": "execute_result"
    }
   ],
   "source": [
    "test_time(AES_CBC, 16, 512)"
   ]
  },
  {
   "cell_type": "code",
   "execution_count": 48,
   "metadata": {},
   "outputs": [
    {
     "data": {
      "text/plain": [
       "3.483200788497925"
      ]
     },
     "execution_count": 48,
     "metadata": {},
     "output_type": "execute_result"
    }
   ],
   "source": [
    "test_time(AES_CFB, 16, 512)"
   ]
  },
  {
   "cell_type": "code",
   "execution_count": 49,
   "metadata": {},
   "outputs": [
    {
     "data": {
      "text/plain": [
       "0.8972077369689941"
      ]
     },
     "execution_count": 49,
     "metadata": {},
     "output_type": "execute_result"
    }
   ],
   "source": [
    "test_time(AES_OFB, 16, 512)"
   ]
  },
  {
   "cell_type": "code",
   "execution_count": 50,
   "metadata": {},
   "outputs": [
    {
     "data": {
      "text/plain": [
       "0.9174067974090576"
      ]
     },
     "execution_count": 50,
     "metadata": {},
     "output_type": "execute_result"
    }
   ],
   "source": [
    "test_time(AES_CTR, 16, 512)"
   ]
  },
  {
   "cell_type": "code",
   "execution_count": 11,
   "metadata": {
    "scrolled": true
   },
   "outputs": [
    {
     "name": "stdout",
     "output_type": "stream",
     "text": [
      "0\n",
      "1\n",
      "2\n",
      "3\n",
      "4\n",
      "5\n",
      "6\n",
      "7\n",
      "8\n",
      "9\n"
     ]
    }
   ],
   "source": [
    "data = {\"RC4\": [], \"Salsa20\": [], \"AES_ECB\": [], \"AES_CBC\": [], \"AES_CFB\": [], \"AES_OFB\": [], \"AES_CTR\": []}\n",
    "points = 10\n",
    "init_power = 9\n",
    "power_bytes = init_power\n",
    "upper_bound = 60\n",
    "rc4_s = salsa20_s = ecb_s = cbc_s = cfb_s = ofb_s = ctr_s = 0\n",
    "for i in range(points):\n",
    "    print(i)\n",
    "    n_bytes = 2**power_bytes\n",
    "    \n",
    "    if rc4_s < upper_bound:\n",
    "        rc4_s = test_time(RC4, 256, n_bytes)\n",
    "\n",
    "    if salsa20_s < upper_bound:\n",
    "        salsa20_s = test_time(Salsa20, 32, n_bytes)\n",
    "    \n",
    "    if ecb_s < upper_bound:\n",
    "        ecb_s = test_time(AES_ECB, 16, n_bytes)\n",
    "        \n",
    "    if cbc_s < upper_bound:\n",
    "        cbc_s = test_time(AES_CBC, 16, n_bytes)\n",
    "        \n",
    "    if cfb_s < upper_bound:\n",
    "        cfb_s = test_time(AES_CFB, 16, n_bytes)\n",
    "        \n",
    "    if ofb_s < upper_bound:\n",
    "        ofb_s = test_time(AES_OFB, 16, n_bytes)\n",
    "    \n",
    "    if ctr_s < upper_bound:\n",
    "        ctr_s = test_time(AES_CTR, 16, n_bytes)\n",
    "    \n",
    "    data[\"RC4\"].append(rc4_s)\n",
    "    data[\"Salsa20\"].append(salsa20_s)\n",
    "    data[\"AES_ECB\"].append(ecb_s)\n",
    "    data[\"AES_CBC\"].append(cbc_s)\n",
    "    data[\"AES_CFB\"].append(cfb_s)\n",
    "    data[\"AES_OFB\"].append(ofb_s)\n",
    "    data[\"AES_CTR\"].append(ctr_s)\n",
    "    \n",
    "    power_bytes += 1"
   ]
  },
  {
   "cell_type": "code",
   "execution_count": 12,
   "metadata": {},
   "outputs": [
    {
     "data": {
      "text/plain": [
       "<Figure size 432x288 with 0 Axes>"
      ]
     },
     "metadata": {},
     "output_type": "display_data"
    }
   ],
   "source": [
    "plt.tight_layout()\n",
    "plt.rcParams[\"figure.figsize\"] = (13,10)"
   ]
  },
  {
   "cell_type": "code",
   "execution_count": 34,
   "metadata": {},
   "outputs": [
    {
     "data": {
      "image/png": "[encoded data removed]",
      "text/plain": [
       "<Figure size 936x720 with 1 Axes>"
      ]
     },
     "metadata": {},
     "output_type": "display_data"
    }
   ],
   "source": [
    "for k in data:\n",
    "    if k == \"Data\":\n",
    "        continue\n",
    "    y = np.array(data[k])\n",
    "    y[y > 60] = 60\n",
    "    x = list(range(len(y)))\n",
    "    \n",
    "    ax = sns.lineplot(x=x, y=y, linewidth=2.5, label=k)\n",
    "\n",
    "plt.xticks(range(points))\n",
    "ax.set_xticklabels([f\"2^{i}\" for i in range(init_power, init_power + points)])\n",
    "ax.set(ylabel=\"Seconds\", xlabel=\"Bytes in stream\")\n",
    "ax.get_xaxis().set_minor_locator(matplotlib.ticker.AutoMinorLocator())\n",
    "ax.get_yaxis().set_minor_locator(matplotlib.ticker.AutoMinorLocator())\n",
    "ax.grid(b=True, which='major', color='w', linewidth=2.0)\n",
    "ax.grid(b=True, which='minor', color='w', linewidth=0.5)"
   ]
  },
  {
   "cell_type": "code",
   "execution_count": null,
   "metadata": {},
   "outputs": [],
   "source": []
  },
  {
   "cell_type": "code",
   "execution_count": 14,
   "metadata": {},
   "outputs": [
    {
     "data": {
      "text/plain": [
       "{'RC4': [0.009407758712768555,\n",
       "  0.015240669250488281,\n",
       "  0.035698652267456055,\n",
       "  0.0616297721862793,\n",
       "  0.10802626609802246,\n",
       "  0.21257281303405762,\n",
       "  0.4942448139190674,\n",
       "  1.0324435234069824,\n",
       "  1.509552001953125,\n",
       "  3.2188451290130615],\n",
       " 'Salsa20': [0.03280210494995117,\n",
       "  0.05182147026062012,\n",
       "  0.1373143196105957,\n",
       "  0.25975561141967773,\n",
       "  0.4260523319244385,\n",
       "  0.846127986907959,\n",
       "  1.892671823501587,\n",
       "  3.9350180625915527,\n",
       "  5.825977563858032,\n",
       "  13.159297704696655],\n",
       " 'AES_ECB': [0.41866517066955566,\n",
       "  0.9931120872497559,\n",
       "  2.0672190189361572,\n",
       "  3.4304404258728027,\n",
       "  7.522669315338135,\n",
       "  13.913587808609009,\n",
       "  29.519684314727783,\n",
       "  65.52871227264404,\n",
       "  65.52871227264404,\n",
       "  65.52871227264404],\n",
       " 'AES_CBC': [0.5253770351409912,\n",
       "  0.9449450969696045,\n",
       "  1.7839572429656982,\n",
       "  3.590224027633667,\n",
       "  6.903351545333862,\n",
       "  13.841313362121582,\n",
       "  31.071752309799194,\n",
       "  59.581583738327026,\n",
       "  100.32600092887878,\n",
       "  100.32600092887878],\n",
       " 'AES_CFB': [1.748281478881836,\n",
       "  4.189073324203491,\n",
       "  7.888752222061157,\n",
       "  16.16749095916748,\n",
       "  31.442433834075928,\n",
       "  57.162132024765015,\n",
       "  121.9447910785675,\n",
       "  121.9447910785675,\n",
       "  121.9447910785675,\n",
       "  121.9447910785675],\n",
       " 'AES_OFB': [0.47802090644836426,\n",
       "  0.8848190307617188,\n",
       "  2.0811007022857666,\n",
       "  4.139355421066284,\n",
       "  8.375336647033691,\n",
       "  14.209080934524536,\n",
       "  30.78883194923401,\n",
       "  59.528743267059326,\n",
       "  123.9262707233429,\n",
       "  123.9262707233429],\n",
       " 'AES_CTR': [0.4187815189361572,\n",
       "  0.8420619964599609,\n",
       "  1.785109043121338,\n",
       "  3.961721658706665,\n",
       "  7.047149181365967,\n",
       "  14.24411392211914,\n",
       "  29.553595066070557,\n",
       "  48.600359201431274,\n",
       "  107.96484851837158,\n",
       "  107.96484851837158]}"
      ]
     },
     "execution_count": 14,
     "metadata": {},
     "output_type": "execute_result"
    }
   ],
   "source": [
    "data"
   ]
  },
  {
   "cell_type": "code",
   "execution_count": 15,
   "metadata": {},
   "outputs": [],
   "source": [
    "data[\"Data\"] = [f\"2^{i} bytes\" for i in range(init_power, init_power + points)]"
   ]
  },
  {
   "cell_type": "code",
   "execution_count": 17,
   "metadata": {},
   "outputs": [],
   "source": [
    "content = np.array(list(data.values())).T\n",
    "headers = list(data.keys())"
   ]
  },
  {
   "cell_type": "code",
   "execution_count": 22,
   "metadata": {},
   "outputs": [
    {
     "name": "stdout",
     "output_type": "stream",
     "text": [
      "╒════════╤═══════════╤═══════════╤═══════════╤═══════════╤═══════════╤═══════════╤════════════╕\n",
      "│    RC4 │   Salsa20 │   AES_ECB │   AES_CBC │   AES_CFB │   AES_OFB │   AES_CTR │ Data       │\n",
      "╞════════╪═══════════╪═══════════╪═══════════╪═══════════╪═══════════╪═══════════╪════════════╡\n",
      "│ 0.0094 │    0.0328 │    0.4187 │    0.5254 │    1.7483 │    0.4780 │    0.4188 │ 2^9 bytes  │\n",
      "├────────┼───────────┼───────────┼───────────┼───────────┼───────────┼───────────┼────────────┤\n",
      "│ 0.0152 │    0.0518 │    0.9931 │    0.9449 │    4.1891 │    0.8848 │    0.8421 │ 2^10 bytes │\n",
      "├────────┼───────────┼───────────┼───────────┼───────────┼───────────┼───────────┼────────────┤\n",
      "│ 0.0357 │    0.1373 │    2.0672 │    1.7840 │    7.8888 │    2.0811 │    1.7851 │ 2^11 bytes │\n",
      "├────────┼───────────┼───────────┼───────────┼───────────┼───────────┼───────────┼────────────┤\n",
      "│ 0.0616 │    0.2598 │    3.4304 │    3.5902 │   16.1675 │    4.1394 │    3.9617 │ 2^12 bytes │\n",
      "├────────┼───────────┼───────────┼───────────┼───────────┼───────────┼───────────┼────────────┤\n",
      "│ 0.1080 │    0.4261 │    7.5227 │    6.9034 │   31.4424 │    8.3753 │    7.0471 │ 2^13 bytes │\n",
      "├────────┼───────────┼───────────┼───────────┼───────────┼───────────┼───────────┼────────────┤\n",
      "│ 0.2126 │    0.8461 │   13.9136 │   13.8413 │   57.1621 │   14.2091 │   14.2441 │ 2^14 bytes │\n",
      "├────────┼───────────┼───────────┼───────────┼───────────┼───────────┼───────────┼────────────┤\n",
      "│ 0.4942 │    1.8927 │   29.5197 │   31.0718 │  121.9448 │   30.7888 │   29.5536 │ 2^15 bytes │\n",
      "├────────┼───────────┼───────────┼───────────┼───────────┼───────────┼───────────┼────────────┤\n",
      "│ 1.0324 │    3.9350 │   65.5287 │   59.5816 │  121.9448 │   59.5287 │   48.6004 │ 2^16 bytes │\n",
      "├────────┼───────────┼───────────┼───────────┼───────────┼───────────┼───────────┼────────────┤\n",
      "│ 1.5096 │    5.8260 │   65.5287 │  100.3260 │  121.9448 │  123.9263 │  107.9648 │ 2^17 bytes │\n",
      "├────────┼───────────┼───────────┼───────────┼───────────┼───────────┼───────────┼────────────┤\n",
      "│ 3.2188 │   13.1593 │   65.5287 │  100.3260 │  121.9448 │  123.9263 │  107.9648 │ 2^18 bytes │\n",
      "╘════════╧═══════════╧═══════════╧═══════════╧═══════════╧═══════════╧═══════════╧════════════╛\n"
     ]
    }
   ],
   "source": [
    "print(tabulate(content, headers=headers, floatfmt=\".4f\", tablefmt=\"fancy_grid\"))"
   ]
  },
  {
   "cell_type": "code",
   "execution_count": null,
   "metadata": {},
   "outputs": [],
   "source": []
  }
 ],
 "metadata": {
  "kernelspec": {
   "display_name": "Python 3",
   "language": "python",
   "name": "python3"
  },
  "language_info": {
   "codemirror_mode": {
    "name": "ipython",
    "version": 3
   },
   "file_extension": ".py",
   "mimetype": "text/x-python",
   "name": "python",
   "nbconvert_exporter": "python",
   "pygments_lexer": "ipython3",
   "version": "3.7.4"
  }
 },
 "nbformat": 4,
 "nbformat_minor": 2
}
